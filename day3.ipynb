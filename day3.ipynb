{
 "cells": [
  {
   "cell_type": "code",
   "execution_count": null,
   "id": "65b574ff-f431-471a-9c9d-d69dbd8de630",
   "metadata": {},
   "outputs": [],
   "source": [
    "while True:\n",
    "    n=input(\"type q to exit: \")\n",
    "    if n=='q':\n",
    "        print(\"exited\")\n",
    "        break\n",
    "    else:\n",
    "        print(\"you typed : \",n)\n",
    "    "
   ]
  },
  {
   "cell_type": "code",
   "execution_count": null,
   "id": "30ddc404-40b9-4660-b71e-b2d9e535bf36",
   "metadata": {},
   "outputs": [],
   "source": [
    "while True:\n",
    "    user_input=input(\"type 'q' to quit:\")\n",
    "    if user_input=='q':\n",
    "        print(\"exited loop!\")\n",
    "        break\n",
    "    else:\n",
    "        print(\"you typed\",user_input)"
   ]
  },
  {
   "cell_type": "code",
   "execution_count": null,
   "id": "1efec5b7-0f8b-4ed0-9a90-834ebd0b0493",
   "metadata": {},
   "outputs": [],
   "source": [
    "password = \"open123\"\n",
    "i=3\n",
    "while i>0:\n",
    "    user_input=input(\"enter Password: \")\n",
    "    if user_input==password:\n",
    "        print(\"Access granted😊\")\n",
    "        break\n",
    "    else:\n",
    "        i-=1\n",
    "        print(f\"wrong password!! {i} Attemts left(●'◡'●)(●'◡'●).\")\n"
   ]
  },
  {
   "cell_type": "code",
   "execution_count": null,
   "id": "55a20681-3cd6-48fd-bca6-006c3df1d4ef",
   "metadata": {},
   "outputs": [],
   "source": [
    "\n",
    "i=1\n",
    "while i<100:\n",
    "    if i%7==0:\n",
    "        print(f\"{i} is divisble\")\n",
    "    i+=1"
   ]
  },
  {
   "cell_type": "code",
   "execution_count": 3,
   "id": "10116076-c4a7-4319-9024-f3a1cd8e7861",
   "metadata": {},
   "outputs": [
    {
     "name": "stdin",
     "output_type": "stream",
     "text": [
      "Enter number:  8\n"
     ]
    },
    {
     "name": "stdout",
     "output_type": "stream",
     "text": [
      "8*1=8\n",
      "8*2=16\n",
      "8*3=24\n",
      "8*4=32\n",
      "8*5=40\n",
      "8*6=48\n",
      "8*7=56\n",
      "8*8=64\n",
      "8*9=72\n",
      "8*10=80\n"
     ]
    }
   ],
   "source": [
    "num = int(input(\"Enter number: \"))\n",
    "for i in range(1,11):\n",
    "    print(f\"{num}*{i}={num*i}\")"
   ]
  },
  {
   "cell_type": "code",
   "execution_count": null,
   "id": "260af052-ec98-4f58-9e8a-42dab0085fc8",
   "metadata": {},
   "outputs": [],
   "source": [
    "password = \"open123\"\n",
    "for i in range(0,3):\n",
    "    user_input=input(\"enter Password: \")\n",
    "    if user_input==password:\n",
    "        print(\"Access granted😊\")\n",
    "        break\n",
    "    else:\n",
    "        print(f\"wrong password!! {2-i} Attemts left(●'◡'●)(●'◡'●).\")"
   ]
  },
  {
   "cell_type": "code",
   "execution_count": 6,
   "id": "3f4c53a4-cb03-4d7b-9f34-11fa49c20dd2",
   "metadata": {},
   "outputs": [
    {
     "name": "stdout",
     "output_type": "stream",
     "text": [
      "1\n",
      "2\n",
      "4\n",
      "5\n",
      "6\n",
      "7\n"
     ]
    }
   ],
   "source": [
    "for i in range(1,11):\n",
    "    if i==3:\n",
    "        continue\n",
    "    elif i==8:\n",
    "        break\n",
    "    print(i)"
   ]
  },
  {
   "cell_type": "code",
   "execution_count": null,
   "id": "c7a04b3a-9635-413a-889a-ec7649e2cc40",
   "metadata": {},
   "outputs": [],
   "source": [
    "for i in range(0,5):\n",
    "    n=input(\"type password : \")\n",
    "    if n=='forget':\n",
    "        i-=1\n",
    "        continue\n",
    "    elif n=='palak':\n",
    "        print(\"you typed palak : \")\n",
    "        break\n",
    "    else:\n",
    "        i-=1\n",
    "        print(f\"attemt left {4-i}\")\n",
    "    "
   ]
  },
  {
   "cell_type": "code",
   "execution_count": null,
   "id": "e035181d-1ae1-472a-8d5f-08d29b9f0263",
   "metadata": {},
   "outputs": [],
   "source": [
    "str=\"python\"\n",
    "i=len(str)\n",
    "for i in range(0,7):\n",
    "    if i==5:\n",
    "        continue\n",
    "    elif i==6:\n",
    "        break\n",
    "    print(str)\n",
    "    \n",
    "    "
   ]
  },
  {
   "cell_type": "code",
   "execution_count": null,
   "id": "e9455410-8dc7-47a1-91e4-8117ce2863e7",
   "metadata": {},
   "outputs": [],
   "source": [
    "word = \"PYTHONPROGRAMMING\"\n",
    "\n",
    "for letter in word:\n",
    "    if letter == 'O':\n",
    "        continue   \n",
    "    if letter == 'N':\n",
    "        print(\"🛑 Breaking at 'n'\")\n",
    "        break     \n",
    "    print(\"✅ Letter:\",letter)"
   ]
  },
  {
   "cell_type": "code",
   "execution_count": null,
   "id": "95c2be0f-8d7a-4518-bfdd-e8d65d1737e7",
   "metadata": {},
   "outputs": [],
   "source": []
  },
  {
   "cell_type": "code",
   "execution_count": null,
   "id": "f7b667fe-38bb-4422-878d-1197b76e9a83",
   "metadata": {},
   "outputs": [],
   "source": [
    "def sum(a,b):\n",
    "    ans=a+b\n",
    "    print(ans)\n",
    "\n",
    "sum(4,4)\n",
    "    "
   ]
  },
  {
   "cell_type": "code",
   "execution_count": 1,
   "id": "6ce0e483-8980-4d60-bcc8-82c496d819fe",
   "metadata": {},
   "outputs": [
    {
     "name": "stdout",
     "output_type": "stream",
     "text": [
      "kalap\n"
     ]
    }
   ],
   "source": [
    "def rev(word):\n",
    "    print(word[::-1])\n",
    "rev(\"palak\")"
   ]
  },
  {
   "cell_type": "code",
   "execution_count": null,
   "id": "2df5b17c-0275-4e6c-bd8c-f82c99c0c644",
   "metadata": {},
   "outputs": [],
   "source": [
    "print(10 / 5)"
   ]
  },
  {
   "cell_type": "code",
   "execution_count": null,
   "id": "564f4d44-2b72-4791-b2e8-7ab2fd664e27",
   "metadata": {},
   "outputs": [],
   "source": [
    " print(3**2)"
   ]
  },
  {
   "cell_type": "code",
   "execution_count": null,
   "id": "f96b304f-f131-451b-93c6-27a4a1d97056",
   "metadata": {},
   "outputs": [],
   "source": [
    " type('5') "
   ]
  },
  {
   "cell_type": "code",
   "execution_count": null,
   "id": "11b1031f-75a8-4c10-8207-4d6a9cb3f301",
   "metadata": {},
   "outputs": [],
   "source": [
    " type(5) "
   ]
  },
  {
   "cell_type": "code",
   "execution_count": null,
   "id": "40e96f89-eed1-41c3-86e2-3ebf07d8c0de",
   "metadata": {},
   "outputs": [],
   "source": [
    "x = 5\n",
    "if x > 3: \n",
    "    print('Yes')\n",
    "    if x>3:\n",
    "        print('yess')\n"
   ]
  },
  {
   "cell_type": "code",
   "execution_count": null,
   "id": "863c0eec-de6e-4c39-b099-0c68b4d8d468",
   "metadata": {},
   "outputs": [],
   "source": [
    "if (5 < 10):\n",
    "    print('OK')\n"
   ]
  },
  {
   "cell_type": "code",
   "execution_count": null,
   "id": "6fc3aa71-4375-4d45-932e-24acaf37ae5b",
   "metadata": {},
   "outputs": [],
   "source": [
    " if x==0:\n",
    "     print('Hello') "
   ]
  },
  {
   "cell_type": "code",
   "execution_count": null,
   "id": "7aae3d6f-fcb9-4b81-83a8-7b023bfdb4e2",
   "metadata": {},
   "outputs": [],
   "source": [
    "print(4==4 & 5==5)"
   ]
  },
  {
   "cell_type": "code",
   "execution_count": null,
   "id": "8fabae8e-e8af-40b0-b2e8-ab0261b997fc",
   "metadata": {},
   "outputs": [],
   "source": [
    "if x=5; elif x==6:\n"
   ]
  },
  {
   "cell_type": "code",
   "execution_count": null,
   "id": "b1d2378b-f27d-4253-8fdb-273f2bf4bfcc",
   "metadata": {},
   "outputs": [],
   "source": [
    " if 3 > 2 and 2 < 5:"
   ]
  },
  {
   "cell_type": "code",
   "execution_count": null,
   "id": "8b37a845-bfc0-4e11-bcad-2d616621e63a",
   "metadata": {},
   "outputs": [],
   "source": [
    " for i in range(1,10,3): print(i)\n",
    "\n"
   ]
  },
  {
   "cell_type": "code",
   "execution_count": null,
   "id": "d60bba59-9552-446a-8d31-9116f181fb5f",
   "metadata": {},
   "outputs": [],
   "source": [
    "while False: \n",
    "    print('Hi')\n"
   ]
  },
  {
   "cell_type": "code",
   "execution_count": null,
   "id": "88bbb92f-daa8-42e0-a61e-d107247a6778",
   "metadata": {},
   "outputs": [],
   "source": [
    "for x in [1,2,3]: print(x)\n"
   ]
  },
  {
   "cell_type": "code",
   "execution_count": null,
   "id": "ea5bcb14-f505-475e-92d0-276f565f8801",
   "metadata": {},
   "outputs": [],
   "source": [
    "'python'[0]"
   ]
  },
  {
   "cell_type": "code",
   "execution_count": null,
   "id": "ba282cb7-8097-4216-97de-c752e23d9825",
   "metadata": {},
   "outputs": [],
   "source": [
    "len('hello')"
   ]
  },
  {
   "cell_type": "code",
   "execution_count": null,
   "id": "a128fbba-6ac2-417d-a239-eee9517785c2",
   "metadata": {},
   "outputs": [],
   "source": [
    "print('Hello, World!')"
   ]
  },
  {
   "cell_type": "code",
   "execution_count": null,
   "id": "c839b802-a03d-4155-9ec6-8f04e04e6db5",
   "metadata": {},
   "outputs": [],
   "source": [
    "n=int(input(\"Enter number: \"))\n",
    "m=int(input(\"Enter number: \"))\n",
    "if n>m:\n",
    "    print(\"N is largest\")\n",
    "else:\n",
    "    print(\"M is largest\")\n",
    "\n"
   ]
  },
  {
   "cell_type": "code",
   "execution_count": null,
   "id": "f7b4d08f-2ff9-4676-929e-42a670ff614c",
   "metadata": {},
   "outputs": [],
   "source": [
    "n=int(input(\"Enter number: \"))\n",
    "if n>0:\n",
    "    print(\"number is positive\")\n",
    "else:\n",
    "    print(\"number is negative\")"
   ]
  },
  {
   "cell_type": "code",
   "execution_count": null,
   "id": "d5c47ad4-f0fd-4c23-a1b5-aec4aab55c61",
   "metadata": {},
   "outputs": [],
   "source": [
    "num = int(input(\"Enter number: \"))\n",
    "i=1\n",
    "while i<11:\n",
    "    print(f\"{num}*{i}={num*i}\")\n",
    "    i+=1"
   ]
  },
  {
   "cell_type": "code",
   "execution_count": 2,
   "id": "176c18d9-1075-44de-8b9a-ae95a28d7c30",
   "metadata": {},
   "outputs": [
    {
     "name": "stdout",
     "output_type": "stream",
     "text": [
      "1\n",
      "2\n",
      "3\n",
      "4\n",
      "5\n",
      "6\n",
      "7\n",
      "8\n",
      "9\n",
      "10\n"
     ]
    }
   ],
   "source": [
    "i=1\n",
    "while i<11:\n",
    "    print(i)\n",
    "    i+=1"
   ]
  },
  {
   "cell_type": "code",
   "execution_count": 17,
   "id": "543486f9-7d61-4104-965a-d7fcef2c97ea",
   "metadata": {},
   "outputs": [
    {
     "ename": "SyntaxError",
     "evalue": "invalid syntax (3668640841.py, line 2)",
     "output_type": "error",
     "traceback": [
      "\u001b[1;36m  Cell \u001b[1;32mIn[17], line 2\u001b[1;36m\u001b[0m\n\u001b[1;33m    for i range(0,5):\u001b[0m\n\u001b[1;37m          ^\u001b[0m\n\u001b[1;31mSyntaxError\u001b[0m\u001b[1;31m:\u001b[0m invalid syntax\n"
     ]
    }
   ],
   "source": [
    "n=[1,2,3,4,5,6]\n",
    "for i range(0,5):\n",
    "    if n[i]%2==0\n",
    "        print(f\"{[n]}\")\n"
   ]
  },
  {
   "cell_type": "code",
   "execution_count": 12,
   "id": "17ec6522-f188-4ca4-ba5a-869cbbd0512f",
   "metadata": {},
   "outputs": [
    {
     "name": "stdin",
     "output_type": "stream",
     "text": [
      "enter 7\n"
     ]
    },
    {
     "name": "stdout",
     "output_type": "stream",
     "text": [
      "Fibonacci:\n",
      "0\n",
      "1\n",
      "1\n",
      "2\n",
      "3\n",
      "5\n",
      "8\n"
     ]
    }
   ],
   "source": [
    "n = int(input(\"enter\"))\n",
    "n1, n2 = 0, 1\n",
    "count = 0\n",
    "if n <= 0:\n",
    "   print(\"Enter a no.\")\n",
    "elif n == 1:\n",
    "   print(\"Fibonacci sequence upto\",n)\n",
    "   print(n1)\n",
    "else:\n",
    "   print(\"Fibonacci:\")\n",
    "   while count < n:\n",
    "       print(n1)\n",
    "       nth = n1 + n2\n",
    "       n1 = n2\n",
    "       n2 = nth\n",
    "       count += 1"
   ]
  },
  {
   "cell_type": "code",
   "execution_count": 15,
   "id": "bcf8b9b7-9535-420a-b831-eed8fcbeb137",
   "metadata": {},
   "outputs": [
    {
     "name": "stdout",
     "output_type": "stream",
     "text": [
      "True\n"
     ]
    }
   ],
   "source": [
    "def prime(n):\n",
    "    if n <= 1:\n",
    "        return False\n",
    "    elif n == 2:\n",
    "        return True\n",
    "    elif n % 2 == 0:\n",
    "        return False\n",
    "    for i in range(3, int(n ** 0.5) + 1, 2):\n",
    "        if n % i == 0:\n",
    "            return False\n",
    "    return True\n",
    "\n",
    "\n",
    "print(prime(11)) \n",
    "\n"
   ]
  },
  {
   "cell_type": "code",
   "execution_count": 3,
   "id": "f04187be-4cba-47d5-806e-884b5735a04b",
   "metadata": {},
   "outputs": [
    {
     "name": "stdout",
     "output_type": "stream",
     "text": [
      "Pyt\n",
      "Pto\n",
      "nohtyP\n"
     ]
    }
   ],
   "source": [
    "s = \"Python\"\n",
    "print(s[0:3])    \n",
    "print(s[::2])    \n",
    "print(s[-1])"
   ]
  },
  {
   "cell_type": "code",
   "execution_count": null,
   "id": "be45e4d5-3733-4e7e-ac74-8551f2b53cf0",
   "metadata": {},
   "outputs": [],
   "source": []
  }
 ],
 "metadata": {
  "kernelspec": {
   "display_name": "Python [conda env:base] *",
   "language": "python",
   "name": "conda-base-py"
  },
  "language_info": {
   "codemirror_mode": {
    "name": "ipython",
    "version": 3
   },
   "file_extension": ".py",
   "mimetype": "text/x-python",
   "name": "python",
   "nbconvert_exporter": "python",
   "pygments_lexer": "ipython3",
   "version": "3.13.5"
  }
 },
 "nbformat": 4,
 "nbformat_minor": 5
}
